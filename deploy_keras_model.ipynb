{
 "cells": [
  {
   "cell_type": "markdown",
   "metadata": {},
   "source": [
    "# Background\n",
    "\n",
    "This notebook provides a sample code on how to deploy Keras Image Classification model (VGG16) on Sagemaker Managed Hosting service. As model server, we use Sagemaker Multi Model Server (MMS). We use pre-trained VGG16 model avialable in Keras Model Zoo.\n",
    "\n",
    "Sample code is provided \"as is\" without any guarantees."
   ]
  },
  {
   "cell_type": "markdown",
   "metadata": {},
   "source": [
    "### Updating Sagemaker SDK\n",
    "\n",
    "We use Sagemaker Python SDK to deploy endpoints. Before we beging, we let's update this SDK to the latest version. Note, after this upgrade please restart your Jupyter kernel for change to take effect."
   ]
  },
  {
   "cell_type": "code",
   "execution_count": null,
   "metadata": {},
   "outputs": [],
   "source": [
    "! pip install --upgrade sagemaker"
   ]
  },
  {
   "cell_type": "markdown",
   "metadata": {},
   "source": [
    "## Build Custom Serving Container\n",
    "\n",
    "In this example, we buid custom inference container from scratch. As part of this container, we also package our inference code.\n",
    "\n",
    "### Initiate Sagemaker variables\n",
    "Below, we import required packaged and define common configuration variables."
   ]
  },
  {
   "cell_type": "code",
   "execution_count": null,
   "metadata": {},
   "outputs": [],
   "source": [
    "import sagemaker, boto3\n",
    "from sagemaker import get_execution_role\n",
    "\n",
    "session = sagemaker.Session()\n",
    "region = session.boto_region_name\n",
    "role = get_execution_role()\n",
    "account = boto3.client('sts').get_caller_identity().get('Account')\n",
    "bucket = session.default_bucket()\n",
    "\n",
    "model_name=\"vgg16-model\"\n",
    "endpoint_name= model_name+\"-mms-endpoint\"\n",
    "tag = \"v1\"\n",
    "image_uri = f\"{account}.dkr.ecr.{region}.amazonaws.com/{model_name}:{tag}\""
   ]
  },
  {
   "cell_type": "markdown",
   "metadata": {},
   "source": [
    "Login to private ECR."
   ]
  },
  {
   "cell_type": "code",
   "execution_count": null,
   "metadata": {},
   "outputs": [],
   "source": [
    "!aws ecr get-login-password --region {region} | docker login --username AWS --password-stdin {account}.dkr.ecr.{region}.amazonaws.com"
   ]
  },
  {
   "cell_type": "markdown",
   "metadata": {},
   "source": [
    "### Review serving image"
   ]
  },
  {
   "cell_type": "code",
   "execution_count": null,
   "metadata": {},
   "outputs": [],
   "source": [
    "! pygmentize Dockerfile"
   ]
  },
  {
   "cell_type": "markdown",
   "metadata": {},
   "source": [
    "### Review inference code\n",
    "\n",
    "In case of Sagemaker MMS, you need to create two files:\n",
    "- `dockerd_entrypoint.py` - a handler service, which will be executed by MMS;\n",
    "- `model_handler.py` - a handler to load model, run predictions, pre- and post-process the inference inputs.\n",
    "\n",
    "You can find more details about these files and recruiments here: https://github.com/aws/sagemaker-inference-toolkit/#implementation-steps"
   ]
  },
  {
   "cell_type": "code",
   "execution_count": null,
   "metadata": {},
   "outputs": [],
   "source": [
    "! pygmentize serving_src/dockerd_entrypoint.py"
   ]
  },
  {
   "cell_type": "code",
   "execution_count": null,
   "metadata": {},
   "outputs": [],
   "source": [
    "! pygmentize serving_src/model_handler.py"
   ]
  },
  {
   "cell_type": "markdown",
   "metadata": {},
   "source": [
    "### Build and push container to ECR registry\n",
    "\n",
    "We are ready to build and push our custom serving image to ECR!"
   ]
  },
  {
   "cell_type": "code",
   "execution_count": null,
   "metadata": {},
   "outputs": [],
   "source": [
    "!./build_and_push.sh {model_name} {tag}"
   ]
  },
  {
   "cell_type": "markdown",
   "metadata": {},
   "source": [
    "# Deploy and test Sagemaker Endpoint\n",
    "\n",
    "Now we have our serving image available in ECR, we are ready to deploy our endpoint to Sagemaker Hosting.\n",
    "\n",
    "First, we have to create a Sageamaker Model which defines parameters of model such as model data (we skip because we load model using Keras facility) and serving image (we set it to our serving image)."
   ]
  },
  {
   "cell_type": "code",
   "execution_count": null,
   "metadata": {},
   "outputs": [],
   "source": [
    "from sagemaker import Model\n",
    "\n",
    "mms_model = Model(\n",
    "    image_uri=image_uri,\n",
    "    model_data=None,\n",
    "    role=role,\n",
    "    name=model_name,\n",
    "    sagemaker_session=session\n",
    ")"
   ]
  },
  {
   "cell_type": "markdown",
   "metadata": {},
   "source": [
    "Once model is created, we now deploy this model on the endpoint. Sagemaker Endpoint allows to configure such parameters as number and type of EC2 instances. "
   ]
  },
  {
   "cell_type": "code",
   "execution_count": null,
   "metadata": {},
   "outputs": [],
   "source": [
    "mms_model.deploy(\n",
    "    initial_instance_count=1,\n",
    "    instance_type=\"ml.c5.xlarge\", \n",
    "    endpoint_name=endpoint_name\n",
    ")"
   ]
  },
  {
   "cell_type": "markdown",
   "metadata": {},
   "source": [
    "For testing purposes we take one of the images from ImageNet dataset, and resize it to fit VGG16 model requirements."
   ]
  },
  {
   "cell_type": "code",
   "execution_count": null,
   "metadata": {},
   "outputs": [],
   "source": [
    "! wget https://farm1.static.flickr.com/56/152004091_5bfbc69bb3.jpg"
   ]
  },
  {
   "cell_type": "code",
   "execution_count": null,
   "metadata": {},
   "outputs": [],
   "source": [
    "%matplotlib inline\n",
    "import cv2\n",
    "import numpy as np\n",
    "from matplotlib import pyplot as plt\n",
    "\n",
    "\n",
    "img = cv2.imread('152004091_5bfbc69bb3.jpg')\n",
    "resized_img = cv2.resize(img, dsize=(224, 224), interpolation=cv2.INTER_CUBIC)\n",
    "resized_filename = \"resized_image.jpg\"\n",
    "\n",
    "cv2.imwrite(resized_filename, resized_img)\n",
    "\n",
    "plt.imshow(cv2.imread(resized_filename))\n",
    "plt.show()"
   ]
  },
  {
   "cell_type": "markdown",
   "metadata": {},
   "source": [
    "To send this image for prediction, we use boto3 `sagemaker-runtime` client. We read the image and send it as payload to Sagemaker endpoint. We expect to get most likely label back."
   ]
  },
  {
   "cell_type": "code",
   "execution_count": null,
   "metadata": {},
   "outputs": [],
   "source": [
    "import boto3\n",
    "\n",
    "client = boto3.client('sagemaker-runtime')\n",
    "accept_type = \"json\"\n",
    "content_type = 'image/jpeg'\n",
    "headers = {'content-type': content_type}\n",
    "payload = open(resized_filename, 'rb')\n",
    "\n",
    "response = client.invoke_endpoint(\n",
    "    EndpointName=endpoint_name,\n",
    "    Body=payload,\n",
    "    ContentType=content_type,\n",
    "    Accept = accept_type\n",
    ")\n",
    "\n",
    "\n",
    "most_likely_label = response['Body'].read()\n",
    "\n",
    "print(most_likely_label)"
   ]
  },
  {
   "cell_type": "code",
   "execution_count": null,
   "metadata": {},
   "outputs": [],
   "source": []
  }
 ],
 "metadata": {
  "kernelspec": {
   "display_name": "conda_tensorflow_p36",
   "language": "python",
   "name": "conda_tensorflow_p36"
  },
  "language_info": {
   "codemirror_mode": {
    "name": "ipython",
    "version": 3
   },
   "file_extension": ".py",
   "mimetype": "text/x-python",
   "name": "python",
   "nbconvert_exporter": "python",
   "pygments_lexer": "ipython3",
   "version": "3.6.10"
  }
 },
 "nbformat": 4,
 "nbformat_minor": 4
}
